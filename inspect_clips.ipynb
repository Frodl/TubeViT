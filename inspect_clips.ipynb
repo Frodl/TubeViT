{
 "cells": [
  {
   "cell_type": "code",
   "execution_count": 1,
   "metadata": {},
   "outputs": [],
   "source": [
    "import torch\n",
    "from torch.utils.data import Dataset\n",
    "import matplotlib.pyplot as plt\n",
    "from ipywidgets import Button, HBox, VBox, Layout\n",
    "from IPython.display import display, clear_output\n",
    "\n",
    "from scripts.etri_dataloaders import ETRIDataset\n",
    "from torchvision import transforms as T\n",
    "import matplotlib.pyplot as plt\n",
    "\n",
    "from scripts.etri_dataloaders import ETRIDataset\n",
    "from scripts.custom_transformations import repeat_color_channel, min_max_normalization, ConvertToUint8, ConvertToFloat32\n",
    "from scripts.custom_transformations import ConvertToFloat64, sample_frames, PermuteDimensions"
   ]
  },
  {
   "cell_type": "code",
   "execution_count": 2,
   "metadata": {},
   "outputs": [],
   "source": [
    "class ClipVisualizer:\n",
    "    def __init__(self, dataset):\n",
    "        self.dataset = dataset\n",
    "        self.num_clips = len(dataset)\n",
    "        self.current_clip_idx = 0\n",
    "        self.clip = dataset[self.current_clip_idx]\n",
    "\n",
    "        self.num_frames = self.clip[0].shape[1]\n",
    "        self.current_frame = 0\n",
    "\n",
    "        self.fig, self.ax = plt.subplots()\n",
    "        \n",
    "        self.img = self.ax.imshow(self.clip[0][0][self.current_frame])\n",
    "        self.ax.set_title(f'Clip {self.current_clip_idx + 1}/{self.num_clips}, Frame {self.current_frame + 1}/{self.num_frames}')\n",
    "\n",
    "        self.bprev_frame = Button(description='Prev Frame')\n",
    "        self.bprev_frame.on_click(self.prev_frame)\n",
    "\n",
    "        self.bnext_frame = Button(description='Next Frame')\n",
    "        self.bnext_frame.on_click(self.next_frame)\n",
    "\n",
    "        self.bprev_clip = Button(description='Prev Clip')\n",
    "        self.bprev_clip.on_click(self.prev_clip)\n",
    "\n",
    "        self.bnext_clip = Button(description='Next Clip')\n",
    "        self.bnext_clip.on_click(self.next_clip)\n",
    "\n",
    "        self.jump_10_frames_button = Button(description='Jump 10 Frames')\n",
    "        self.jump_10_frames_button.on_click(self.jump_10_frames)\n",
    "       \n",
    "        self.update_display()\n",
    "\n",
    "    def update_display(self):\n",
    "        clear_output(wait=True)\n",
    "        self.fig.canvas.draw()\n",
    "        display(self.fig)\n",
    "        #display(VBox([HBox([self.bprev_clip, self.bprev_frame, self.bnext_frame, self.bnext_clip])]))\n",
    "        display(HBox([self.bprev_clip, self.bprev_frame, self.bnext_frame, self.bnext_clip, self.jump_10_frames_button]))\n",
    "\n",
    "\n",
    "    def update_frame(self):\n",
    "        clear_output(wait=True)\n",
    "        self.img.set_data(self.clip[0][0][self.current_frame])\n",
    "        self.ax.set_title(f'Clip {self.current_clip_idx + 1}/{self.num_clips}, Frame {self.current_frame + 1}/{self.num_frames} Action: {self.clip[1]}')\n",
    "        self.fig.canvas.draw()\n",
    "        display(self.fig)\n",
    "        display(HBox([self.bprev_clip, self.bprev_frame, self.bnext_frame, self.bnext_clip,self.jump_10_frames_button]))\n",
    "\n",
    "    # def start_auto_next_frame(self, event):\n",
    "    #     if not self.auto_running:\n",
    "    #         self.auto_running = True\n",
    "    #         self.auto_next_thread = threading.Thread(target=self.auto_next_frames)\n",
    "    #         self.auto_next_thread.start()\n",
    "\n",
    "    # def auto_next_frames(self):\n",
    "    #     while self.auto_running:\n",
    "    #         time.sleep(self.fps)  # Wait for 1 second\n",
    "    #         self.next_frame(None)\n",
    "\n",
    "    # def stop_auto_next_frame(self):\n",
    "    #     self.auto_running = False\n",
    "    #     if self.auto_next_thread is not None:\n",
    "    #         self.auto_next_thread.join()\n",
    "    def jump_10_frames(self, event):\n",
    "        if self.current_frame + 10 < self.num_frames:\n",
    "            self.current_frame += 10\n",
    "        else:\n",
    "            self.current_frame = self.num_frames - 1\n",
    "        self.update_frame()\n",
    "\n",
    "\n",
    "    def prev_frame(self, event):\n",
    "        if self.current_frame > 0:\n",
    "            self.current_frame -= 1\n",
    "            self.update_frame()\n",
    "\n",
    "    def next_frame(self, event):\n",
    "        if self.current_frame < self.num_frames - 1:\n",
    "            self.current_frame += 1\n",
    "            self.update_frame()\n",
    "\n",
    "    def prev_clip(self, event):\n",
    "        if self.current_clip_idx > 0:\n",
    "            self.current_clip_idx -= 1\n",
    "            self.clip = self.dataset[self.current_clip_idx]\n",
    "            self.num_frames = self.clip[0].shape[1]\n",
    "            self.current_frame = 0\n",
    "            self.update_frame()\n",
    "\n",
    "    def next_clip(self, event):\n",
    "        if self.current_clip_idx < self.num_clips - 1:\n",
    "            self.current_clip_idx += 1\n",
    "            self.clip = self.dataset[self.current_clip_idx]\n",
    "            self.num_frames = self.clip[0].shape[1]\n",
    "            self.current_frame = 0\n",
    "            self.update_frame()"
   ]
  },
  {
   "cell_type": "code",
   "execution_count": 5,
   "metadata": {},
   "outputs": [
    {
     "name": "stdout",
     "output_type": "stream",
     "text": [
      "#########################################\n",
      "4737\n",
      "#########################################\n"
     ]
    }
   ],
   "source": [
    "#compose_transformations \n",
    "train_transform = T.Compose([\n",
    "    min_max_normalization(scale_up=True),\n",
    "    ConvertToFloat32(),\n",
    "    PermuteDimensions(order=[3, 0, 1, 2]),\n",
    "    repeat_color_channel(),\n",
    "    sample_frames(nth=64),\n",
    "])\n",
    "\n",
    "\n",
    "\n",
    "train_set =  ETRIDataset(\n",
    "    root_dir=r\"/data/fhuemer/etri/masked_depthmaps\",\n",
    "    mode = \"train\",\n",
    "    remove_background=False,\n",
    "    transform=train_transform,\n",
    "    single_camera=True,\n",
    "    elders_only=True,\n",
    "    max_number_frames = 500,\n",
    ")\n"
   ]
  },
  {
   "cell_type": "code",
   "execution_count": 6,
   "metadata": {},
   "outputs": [
    {
     "data": {
      "image/png": "[encoded data removed]",
      "text/plain": [
       "<Figure size 640x480 with 1 Axes>"
      ]
     },
     "metadata": {},
     "output_type": "display_data"
    },
    {
     "data": {
      "application/vnd.jupyter.widget-view+json": {
       "model_id": "de82a1fa60ad49d4b13c46e042e91a1c",
       "version_major": 2,
       "version_minor": 0
      },
      "text/plain": [
       "HBox(children=(Button(description='Prev Clip', style=ButtonStyle()), Button(description='Prev Frame', style=Bu…"
      ]
     },
     "metadata": {},
     "output_type": "display_data"
    }
   ],
   "source": [
    "visualizer = ClipVisualizer(train_set)"
   ]
  },
  {
   "cell_type": "code",
   "execution_count": null,
   "metadata": {},
   "outputs": [],
   "source": [
    "# !jupyter nbextension enable --py widgetsnbextension\n",
    "# !jupyter nbextension enable --py ipywidgets"
   ]
  }
 ],
 "metadata": {
  "kernelspec": {
   "display_name": "tubes",
   "language": "python",
   "name": "python3"
  },
  "language_info": {
   "codemirror_mode": {
    "name": "ipython",
    "version": 3
   },
   "file_extension": ".py",
   "mimetype": "text/x-python",
   "name": "python",
   "nbconvert_exporter": "python",
   "pygments_lexer": "ipython3",
   "version": "3.12.3"
  }
 },
 "nbformat": 4,
 "nbformat_minor": 2
}
